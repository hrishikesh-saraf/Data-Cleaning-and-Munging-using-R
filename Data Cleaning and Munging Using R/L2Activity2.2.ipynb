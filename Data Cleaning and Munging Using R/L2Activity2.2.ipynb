{
 "cells": [
  {
   "cell_type": "code",
   "execution_count": 1,
   "metadata": {
    "collapsed": true
   },
   "outputs": [],
   "source": [
    "#Load the csv files\n",
    "Players <- read.csv(file=\"player.csv\")\n",
    "Teams <- read.csv(file=\"team.csv\")"
   ]
  },
  {
   "cell_type": "code",
   "execution_count": 2,
   "metadata": {
    "collapsed": false
   },
   "outputs": [
    {
     "name": "stderr",
     "output_type": "stream",
     "text": [
      "Warning message:\n",
      "\"package 'sqldf' was built under R version 3.3.3\"Loading required package: gsubfn\n",
      "Warning message:\n",
      "\"package 'gsubfn' was built under R version 3.3.3\"Loading required package: proto\n",
      "Warning message:\n",
      "\"package 'proto' was built under R version 3.3.3\"Could not load tcltk.  Will use slower R code instead.\n",
      "Loading required package: RSQLite\n"
     ]
    }
   ],
   "source": [
    "library(sqldf)"
   ]
  },
  {
   "cell_type": "code",
   "execution_count": 3,
   "metadata": {
    "collapsed": false,
    "scrolled": true
   },
   "outputs": [
    {
     "name": "stderr",
     "output_type": "stream",
     "text": [
      "Warning message:\n",
      "\"Quoted identifiers should have class SQL, use DBI::SQL() if the caller performs the quoting.\""
     ]
    },
    {
     "data": {
      "text/html": [
       "<table>\n",
       "<thead><tr><th scope=col>player_name</th><th scope=col>overall_rating</th></tr></thead>\n",
       "<tbody>\n",
       "\t<tr><td>Lionel Messi      </td><td>94                </td></tr>\n",
       "\t<tr><td>Cristiano Ronaldo </td><td>93                </td></tr>\n",
       "\t<tr><td>Luis Suarez       </td><td>90                </td></tr>\n",
       "\t<tr><td>Manuel Neuer      </td><td>90                </td></tr>\n",
       "\t<tr><td>Neymar            </td><td>90                </td></tr>\n",
       "\t<tr><td>Arjen Robben      </td><td>89                </td></tr>\n",
       "\t<tr><td>Zlatan Ibrahimovic</td><td>89                </td></tr>\n",
       "\t<tr><td>Andres Iniesta    </td><td>88                </td></tr>\n",
       "\t<tr><td>Eden Hazard       </td><td>88                </td></tr>\n",
       "\t<tr><td>Mesut Oezil       </td><td>88                </td></tr>\n",
       "</tbody>\n",
       "</table>\n"
      ],
      "text/latex": [
       "\\begin{tabular}{r|ll}\n",
       " player\\_name & overall\\_rating\\\\\n",
       "\\hline\n",
       "\t Lionel Messi       & 94                \\\\\n",
       "\t Cristiano Ronaldo  & 93                \\\\\n",
       "\t Luis Suarez        & 90                \\\\\n",
       "\t Manuel Neuer       & 90                \\\\\n",
       "\t Neymar             & 90                \\\\\n",
       "\t Arjen Robben       & 89                \\\\\n",
       "\t Zlatan Ibrahimovic & 89                \\\\\n",
       "\t Andres Iniesta     & 88                \\\\\n",
       "\t Eden Hazard        & 88                \\\\\n",
       "\t Mesut Oezil        & 88                \\\\\n",
       "\\end{tabular}\n"
      ],
      "text/markdown": [
       "\n",
       "player_name | overall_rating | \n",
       "|---|---|---|---|---|---|---|---|---|---|\n",
       "| Lionel Messi       | 94                 | \n",
       "| Cristiano Ronaldo  | 93                 | \n",
       "| Luis Suarez        | 90                 | \n",
       "| Manuel Neuer       | 90                 | \n",
       "| Neymar             | 90                 | \n",
       "| Arjen Robben       | 89                 | \n",
       "| Zlatan Ibrahimovic | 89                 | \n",
       "| Andres Iniesta     | 88                 | \n",
       "| Eden Hazard        | 88                 | \n",
       "| Mesut Oezil        | 88                 | \n",
       "\n",
       "\n"
      ],
      "text/plain": [
       "   player_name        overall_rating\n",
       "1  Lionel Messi       94            \n",
       "2  Cristiano Ronaldo  93            \n",
       "3  Luis Suarez        90            \n",
       "4  Manuel Neuer       90            \n",
       "5  Neymar             90            \n",
       "6  Arjen Robben       89            \n",
       "7  Zlatan Ibrahimovic 89            \n",
       "8  Andres Iniesta     88            \n",
       "9  Eden Hazard        88            \n",
       "10 Mesut Oezil        88            "
      ]
     },
     "metadata": {},
     "output_type": "display_data"
    }
   ],
   "source": [
    "#Which are the top 10 players by overall rating?\n",
    "df1<-sqldf(\"select player_name,overall_rating from Players order by overall_rating desc limit 10\")\n",
    "df1"
   ]
  },
  {
   "cell_type": "code",
   "execution_count": 4,
   "metadata": {
    "collapsed": false
   },
   "outputs": [
    {
     "data": {
      "text/html": [
       "<table>\n",
       "<thead><tr><th scope=col>player_name</th><th scope=col>gk</th></tr></thead>\n",
       "<tbody>\n",
       "\t<tr><td>Manuel Neuer     </td><td>440              </td></tr>\n",
       "\t<tr><td>David De Gea     </td><td>429              </td></tr>\n",
       "\t<tr><td>Edwin van der Sar</td><td>422              </td></tr>\n",
       "\t<tr><td>Robert Enke,30   </td><td>421              </td></tr>\n",
       "\t<tr><td>Claudio Bravo    </td><td>416              </td></tr>\n",
       "\t<tr><td>Bernd Leno       </td><td>415              </td></tr>\n",
       "\t<tr><td>Petr Cech        </td><td>414              </td></tr>\n",
       "\t<tr><td>Thibaut Courtois </td><td>414              </td></tr>\n",
       "\t<tr><td>Joe Hart         </td><td>412              </td></tr>\n",
       "\t<tr><td>Samir Handanovic </td><td>411              </td></tr>\n",
       "</tbody>\n",
       "</table>\n"
      ],
      "text/latex": [
       "\\begin{tabular}{r|ll}\n",
       " player\\_name & gk\\\\\n",
       "\\hline\n",
       "\t Manuel Neuer      & 440              \\\\\n",
       "\t David De Gea      & 429              \\\\\n",
       "\t Edwin van der Sar & 422              \\\\\n",
       "\t Robert Enke,30    & 421              \\\\\n",
       "\t Claudio Bravo     & 416              \\\\\n",
       "\t Bernd Leno        & 415              \\\\\n",
       "\t Petr Cech         & 414              \\\\\n",
       "\t Thibaut Courtois  & 414              \\\\\n",
       "\t Joe Hart          & 412              \\\\\n",
       "\t Samir Handanovic  & 411              \\\\\n",
       "\\end{tabular}\n"
      ],
      "text/markdown": [
       "\n",
       "player_name | gk | \n",
       "|---|---|---|---|---|---|---|---|---|---|\n",
       "| Manuel Neuer      | 440               | \n",
       "| David De Gea      | 429               | \n",
       "| Edwin van der Sar | 422               | \n",
       "| Robert Enke,30    | 421               | \n",
       "| Claudio Bravo     | 416               | \n",
       "| Bernd Leno        | 415               | \n",
       "| Petr Cech         | 414               | \n",
       "| Thibaut Courtois  | 414               | \n",
       "| Joe Hart          | 412               | \n",
       "| Samir Handanovic  | 411               | \n",
       "\n",
       "\n"
      ],
      "text/plain": [
       "   player_name       gk \n",
       "1  Manuel Neuer      440\n",
       "2  David De Gea      429\n",
       "3  Edwin van der Sar 422\n",
       "4  Robert Enke,30    421\n",
       "5  Claudio Bravo     416\n",
       "6  Bernd Leno        415\n",
       "7  Petr Cech         414\n",
       "8  Thibaut Courtois  414\n",
       "9  Joe Hart          412\n",
       "10 Samir Handanovic  411"
      ]
     },
     "metadata": {},
     "output_type": "display_data"
    }
   ],
   "source": [
    "#Which are the top 10 goalkeepers by sum of gk attributes?\n",
    "df2<-sqldf(\"select player_name,gk from Players order by gk desc limit 10\")\n",
    "df2"
   ]
  },
  {
   "cell_type": "code",
   "execution_count": 5,
   "metadata": {
    "collapsed": false
   },
   "outputs": [
    {
     "data": {
      "text/html": [
       "<table>\n",
       "<thead><tr><th scope=col>player_name</th><th scope=col>matches_played</th></tr></thead>\n",
       "<tbody>\n",
       "\t<tr><td>Steve Mandanda      </td><td>300                 </td></tr>\n",
       "\t<tr><td>Stephane Ruffier    </td><td>294                 </td></tr>\n",
       "\t<tr><td>Gorka Iraizoz Moreno</td><td>286                 </td></tr>\n",
       "\t<tr><td>Samir Handanovic    </td><td>286                 </td></tr>\n",
       "\t<tr><td>Hugo Lloris         </td><td>282                 </td></tr>\n",
       "\t<tr><td>Tim Howard          </td><td>282                 </td></tr>\n",
       "\t<tr><td>Joe Hart            </td><td>275                 </td></tr>\n",
       "\t<tr><td>Cedric Carrasso     </td><td>268                 </td></tr>\n",
       "\t<tr><td>Daniel Congre       </td><td>262                 </td></tr>\n",
       "\t<tr><td>Moussa Sissoko      </td><td>260                 </td></tr>\n",
       "</tbody>\n",
       "</table>\n"
      ],
      "text/latex": [
       "\\begin{tabular}{r|ll}\n",
       " player\\_name & matches\\_played\\\\\n",
       "\\hline\n",
       "\t Steve Mandanda       & 300                 \\\\\n",
       "\t Stephane Ruffier     & 294                 \\\\\n",
       "\t Gorka Iraizoz Moreno & 286                 \\\\\n",
       "\t Samir Handanovic     & 286                 \\\\\n",
       "\t Hugo Lloris          & 282                 \\\\\n",
       "\t Tim Howard           & 282                 \\\\\n",
       "\t Joe Hart             & 275                 \\\\\n",
       "\t Cedric Carrasso      & 268                 \\\\\n",
       "\t Daniel Congre        & 262                 \\\\\n",
       "\t Moussa Sissoko       & 260                 \\\\\n",
       "\\end{tabular}\n"
      ],
      "text/markdown": [
       "\n",
       "player_name | matches_played | \n",
       "|---|---|---|---|---|---|---|---|---|---|\n",
       "| Steve Mandanda       | 300                  | \n",
       "| Stephane Ruffier     | 294                  | \n",
       "| Gorka Iraizoz Moreno | 286                  | \n",
       "| Samir Handanovic     | 286                  | \n",
       "| Hugo Lloris          | 282                  | \n",
       "| Tim Howard           | 282                  | \n",
       "| Joe Hart             | 275                  | \n",
       "| Cedric Carrasso      | 268                  | \n",
       "| Daniel Congre        | 262                  | \n",
       "| Moussa Sissoko       | 260                  | \n",
       "\n",
       "\n"
      ],
      "text/plain": [
       "   player_name          matches_played\n",
       "1  Steve Mandanda       300           \n",
       "2  Stephane Ruffier     294           \n",
       "3  Gorka Iraizoz Moreno 286           \n",
       "4  Samir Handanovic     286           \n",
       "5  Hugo Lloris          282           \n",
       "6  Tim Howard           282           \n",
       "7  Joe Hart             275           \n",
       "8  Cedric Carrasso      268           \n",
       "9  Daniel Congre        262           \n",
       "10 Moussa Sissoko       260           "
      ]
     },
     "metadata": {},
     "output_type": "display_data"
    }
   ],
   "source": [
    "#Which are the top 10 players by number of appearances (with any team they played with)?\n",
    "df3<-sqldf(\"select player_name,matches_played from Players order by matches_played desc limit 10\")\n",
    "df3"
   ]
  },
  {
   "cell_type": "code",
   "execution_count": 6,
   "metadata": {
    "collapsed": false
   },
   "outputs": [
    {
     "data": {
      "text/html": [
       "<table>\n",
       "<thead><tr><th scope=col>player_name</th><th scope=col>leagues_played</th></tr></thead>\n",
       "<tbody>\n",
       "\t<tr><td>Gelson Fernandes     </td><td>6                    </td></tr>\n",
       "\t<tr><td>Filip Djuricic       </td><td>5                    </td></tr>\n",
       "\t<tr><td>Ricky van Wolfswinkel</td><td>5                    </td></tr>\n",
       "\t<tr><td>Aleksandar Tonev     </td><td>4                    </td></tr>\n",
       "\t<tr><td>Alfred Finnbogason   </td><td>4                    </td></tr>\n",
       "\t<tr><td>Almen Abdi           </td><td>4                    </td></tr>\n",
       "\t<tr><td>Aly Cissokho         </td><td>4                    </td></tr>\n",
       "\t<tr><td>Angel Di Maria       </td><td>4                    </td></tr>\n",
       "\t<tr><td>Bojan Krkic          </td><td>4                    </td></tr>\n",
       "\t<tr><td>Bryan Ruiz           </td><td>4                    </td></tr>\n",
       "</tbody>\n",
       "</table>\n"
      ],
      "text/latex": [
       "\\begin{tabular}{r|ll}\n",
       " player\\_name & leagues\\_played\\\\\n",
       "\\hline\n",
       "\t Gelson Fernandes      & 6                    \\\\\n",
       "\t Filip Djuricic        & 5                    \\\\\n",
       "\t Ricky van Wolfswinkel & 5                    \\\\\n",
       "\t Aleksandar Tonev      & 4                    \\\\\n",
       "\t Alfred Finnbogason    & 4                    \\\\\n",
       "\t Almen Abdi            & 4                    \\\\\n",
       "\t Aly Cissokho          & 4                    \\\\\n",
       "\t Angel Di Maria        & 4                    \\\\\n",
       "\t Bojan Krkic           & 4                    \\\\\n",
       "\t Bryan Ruiz            & 4                    \\\\\n",
       "\\end{tabular}\n"
      ],
      "text/markdown": [
       "\n",
       "player_name | leagues_played | \n",
       "|---|---|---|---|---|---|---|---|---|---|\n",
       "| Gelson Fernandes      | 6                     | \n",
       "| Filip Djuricic        | 5                     | \n",
       "| Ricky van Wolfswinkel | 5                     | \n",
       "| Aleksandar Tonev      | 4                     | \n",
       "| Alfred Finnbogason    | 4                     | \n",
       "| Almen Abdi            | 4                     | \n",
       "| Aly Cissokho          | 4                     | \n",
       "| Angel Di Maria        | 4                     | \n",
       "| Bojan Krkic           | 4                     | \n",
       "| Bryan Ruiz            | 4                     | \n",
       "\n",
       "\n"
      ],
      "text/plain": [
       "   player_name           leagues_played\n",
       "1  Gelson Fernandes      6             \n",
       "2  Filip Djuricic        5             \n",
       "3  Ricky van Wolfswinkel 5             \n",
       "4  Aleksandar Tonev      4             \n",
       "5  Alfred Finnbogason    4             \n",
       "6  Almen Abdi            4             \n",
       "7  Aly Cissokho          4             \n",
       "8  Angel Di Maria        4             \n",
       "9  Bojan Krkic           4             \n",
       "10 Bryan Ruiz            4             "
      ]
     },
     "metadata": {},
     "output_type": "display_data"
    }
   ],
   "source": [
    "#Which are the top 10 players by number of leagues they played in?\n",
    "df4<-sqldf(\"select player_name,leagues_played from Players order by leagues_played desc limit 10\")\n",
    "df4"
   ]
  },
  {
   "cell_type": "code",
   "execution_count": 7,
   "metadata": {
    "collapsed": false
   },
   "outputs": [
    {
     "data": {
      "text/html": [
       "<table>\n",
       "<thead><tr><th scope=col>team_long_name</th><th scope=col>buildup</th></tr></thead>\n",
       "<tbody>\n",
       "\t<tr><td>Torino                    </td><td>209                       </td></tr>\n",
       "\t<tr><td>Udinese                   </td><td>205                       </td></tr>\n",
       "\t<tr><td>Fortuna Düsseldorf        </td><td>198                       </td></tr>\n",
       "\t<tr><td>Podbeskidzie Bielsko-Biala</td><td>193                       </td></tr>\n",
       "\t<tr><td>Korona Kielce             </td><td>192                       </td></tr>\n",
       "\t<tr><td>Carpi                     </td><td>190                       </td></tr>\n",
       "\t<tr><td>Widzew Lódz               </td><td>190                       </td></tr>\n",
       "\t<tr><td>Widzew Lódz               </td><td>190                       </td></tr>\n",
       "\t<tr><td>FC Nantes                 </td><td>189                       </td></tr>\n",
       "\t<tr><td>Lazio                     </td><td>188                       </td></tr>\n",
       "</tbody>\n",
       "</table>\n"
      ],
      "text/latex": [
       "\\begin{tabular}{r|ll}\n",
       " team\\_long\\_name & buildup\\\\\n",
       "\\hline\n",
       "\t Torino                     & 209                       \\\\\n",
       "\t Udinese                    & 205                       \\\\\n",
       "\t Fortuna Düsseldorf         & 198                       \\\\\n",
       "\t Podbeskidzie Bielsko-Biala & 193                       \\\\\n",
       "\t Korona Kielce              & 192                       \\\\\n",
       "\t Carpi                      & 190                       \\\\\n",
       "\t Widzew Lódz                & 190                       \\\\\n",
       "\t Widzew Lódz                & 190                       \\\\\n",
       "\t FC Nantes                  & 189                       \\\\\n",
       "\t Lazio                      & 188                       \\\\\n",
       "\\end{tabular}\n"
      ],
      "text/markdown": [
       "\n",
       "team_long_name | buildup | \n",
       "|---|---|---|---|---|---|---|---|---|---|\n",
       "| Torino                     | 209                        | \n",
       "| Udinese                    | 205                        | \n",
       "| Fortuna Düsseldorf         | 198                        | \n",
       "| Podbeskidzie Bielsko-Biala | 193                        | \n",
       "| Korona Kielce              | 192                        | \n",
       "| Carpi                      | 190                        | \n",
       "| Widzew Lódz                | 190                        | \n",
       "| Widzew Lódz                | 190                        | \n",
       "| FC Nantes                  | 189                        | \n",
       "| Lazio                      | 188                        | \n",
       "\n",
       "\n"
      ],
      "text/plain": [
       "   team_long_name             buildup\n",
       "1  Torino                     209    \n",
       "2  Udinese                    205    \n",
       "3  Fortuna Düsseldorf         198    \n",
       "4  Podbeskidzie Bielsko-Biala 193    \n",
       "5  Korona Kielce              192    \n",
       "6  Carpi                      190    \n",
       "7  Widzew Lódz                190    \n",
       "8  Widzew Lódz                190    \n",
       "9  FC Nantes                  189    \n",
       "10 Lazio                      188    "
      ]
     },
     "metadata": {},
     "output_type": "display_data"
    }
   ],
   "source": [
    "#Which are the top 10 teams by sum of build up play attributes?\n",
    "df5<-sqldf(\"select team_long_name,buildup from Teams order by buildup desc limit 10\")\n",
    "df5"
   ]
  },
  {
   "cell_type": "code",
   "execution_count": 8,
   "metadata": {
    "collapsed": false
   },
   "outputs": [
    {
     "data": {
      "text/html": [
       "<table>\n",
       "<thead><tr><th scope=col>team_long_name</th><th scope=col>chance_creation</th></tr></thead>\n",
       "<tbody>\n",
       "\t<tr><td>Lazio                  </td><td>220                    </td></tr>\n",
       "\t<tr><td>SV Werder Bremen       </td><td>216                    </td></tr>\n",
       "\t<tr><td>Napoli                 </td><td>215                    </td></tr>\n",
       "\t<tr><td>Manchester City        </td><td>210                    </td></tr>\n",
       "\t<tr><td>Tottenham Hotspur      </td><td>210                    </td></tr>\n",
       "\t<tr><td>Birmingham City        </td><td>210                    </td></tr>\n",
       "\t<tr><td>Wolverhampton Wanderers</td><td>210                    </td></tr>\n",
       "\t<tr><td>Burnley                </td><td>210                    </td></tr>\n",
       "\t<tr><td>Swansea City           </td><td>210                    </td></tr>\n",
       "\t<tr><td>Queens Park Rangers    </td><td>210                    </td></tr>\n",
       "</tbody>\n",
       "</table>\n"
      ],
      "text/latex": [
       "\\begin{tabular}{r|ll}\n",
       " team\\_long\\_name & chance\\_creation\\\\\n",
       "\\hline\n",
       "\t Lazio                   & 220                    \\\\\n",
       "\t SV Werder Bremen        & 216                    \\\\\n",
       "\t Napoli                  & 215                    \\\\\n",
       "\t Manchester City         & 210                    \\\\\n",
       "\t Tottenham Hotspur       & 210                    \\\\\n",
       "\t Birmingham City         & 210                    \\\\\n",
       "\t Wolverhampton Wanderers & 210                    \\\\\n",
       "\t Burnley                 & 210                    \\\\\n",
       "\t Swansea City            & 210                    \\\\\n",
       "\t Queens Park Rangers     & 210                    \\\\\n",
       "\\end{tabular}\n"
      ],
      "text/markdown": [
       "\n",
       "team_long_name | chance_creation | \n",
       "|---|---|---|---|---|---|---|---|---|---|\n",
       "| Lazio                   | 220                     | \n",
       "| SV Werder Bremen        | 216                     | \n",
       "| Napoli                  | 215                     | \n",
       "| Manchester City         | 210                     | \n",
       "| Tottenham Hotspur       | 210                     | \n",
       "| Birmingham City         | 210                     | \n",
       "| Wolverhampton Wanderers | 210                     | \n",
       "| Burnley                 | 210                     | \n",
       "| Swansea City            | 210                     | \n",
       "| Queens Park Rangers     | 210                     | \n",
       "\n",
       "\n"
      ],
      "text/plain": [
       "   team_long_name          chance_creation\n",
       "1  Lazio                   220            \n",
       "2  SV Werder Bremen        216            \n",
       "3  Napoli                  215            \n",
       "4  Manchester City         210            \n",
       "5  Tottenham Hotspur       210            \n",
       "6  Birmingham City         210            \n",
       "7  Wolverhampton Wanderers 210            \n",
       "8  Burnley                 210            \n",
       "9  Swansea City            210            \n",
       "10 Queens Park Rangers     210            "
      ]
     },
     "metadata": {},
     "output_type": "display_data"
    }
   ],
   "source": [
    "#Which are the top 10 teams by sum of chance creation attributes?\n",
    "df6<-sqldf(\"select team_long_name,chance_creation from Teams order by chance_creation desc limit 10\")\n",
    "df6"
   ]
  },
  {
   "cell_type": "code",
   "execution_count": 9,
   "metadata": {
    "collapsed": false
   },
   "outputs": [
    {
     "data": {
      "text/html": [
       "<table>\n",
       "<thead><tr><th scope=col>team_long_name</th><th scope=col>defence</th></tr></thead>\n",
       "<tbody>\n",
       "\t<tr><td>Beerschot AC           </td><td>210                    </td></tr>\n",
       "\t<tr><td>KVC Westerlo           </td><td>210                    </td></tr>\n",
       "\t<tr><td>Sporting Charleroi     </td><td>210                    </td></tr>\n",
       "\t<tr><td>West Bromwich Albion   </td><td>210                    </td></tr>\n",
       "\t<tr><td>Hull City              </td><td>210                    </td></tr>\n",
       "\t<tr><td>Birmingham City        </td><td>210                    </td></tr>\n",
       "\t<tr><td>Wolverhampton Wanderers</td><td>210                    </td></tr>\n",
       "\t<tr><td>Blackpool              </td><td>210                    </td></tr>\n",
       "\t<tr><td>Swansea City           </td><td>210                    </td></tr>\n",
       "\t<tr><td>Queens Park Rangers    </td><td>210                    </td></tr>\n",
       "</tbody>\n",
       "</table>\n"
      ],
      "text/latex": [
       "\\begin{tabular}{r|ll}\n",
       " team\\_long\\_name & defence\\\\\n",
       "\\hline\n",
       "\t Beerschot AC            & 210                    \\\\\n",
       "\t KVC Westerlo            & 210                    \\\\\n",
       "\t Sporting Charleroi      & 210                    \\\\\n",
       "\t West Bromwich Albion    & 210                    \\\\\n",
       "\t Hull City               & 210                    \\\\\n",
       "\t Birmingham City         & 210                    \\\\\n",
       "\t Wolverhampton Wanderers & 210                    \\\\\n",
       "\t Blackpool               & 210                    \\\\\n",
       "\t Swansea City            & 210                    \\\\\n",
       "\t Queens Park Rangers     & 210                    \\\\\n",
       "\\end{tabular}\n"
      ],
      "text/markdown": [
       "\n",
       "team_long_name | defence | \n",
       "|---|---|---|---|---|---|---|---|---|---|\n",
       "| Beerschot AC            | 210                     | \n",
       "| KVC Westerlo            | 210                     | \n",
       "| Sporting Charleroi      | 210                     | \n",
       "| West Bromwich Albion    | 210                     | \n",
       "| Hull City               | 210                     | \n",
       "| Birmingham City         | 210                     | \n",
       "| Wolverhampton Wanderers | 210                     | \n",
       "| Blackpool               | 210                     | \n",
       "| Swansea City            | 210                     | \n",
       "| Queens Park Rangers     | 210                     | \n",
       "\n",
       "\n"
      ],
      "text/plain": [
       "   team_long_name          defence\n",
       "1  Beerschot AC            210    \n",
       "2  KVC Westerlo            210    \n",
       "3  Sporting Charleroi      210    \n",
       "4  West Bromwich Albion    210    \n",
       "5  Hull City               210    \n",
       "6  Birmingham City         210    \n",
       "7  Wolverhampton Wanderers 210    \n",
       "8  Blackpool               210    \n",
       "9  Swansea City            210    \n",
       "10 Queens Park Rangers     210    "
      ]
     },
     "metadata": {},
     "output_type": "display_data"
    }
   ],
   "source": [
    "#Which are the top 10 teams by sum of defense attributes?\n",
    "df7<-sqldf(\"select team_long_name,defence from Teams order by defence desc limit 10\")\n",
    "df7"
   ]
  },
  {
   "cell_type": "code",
   "execution_count": 10,
   "metadata": {
    "collapsed": false
   },
   "outputs": [
    {
     "data": {
      "text/html": [
       "<table>\n",
       "<thead><tr><th scope=col>team_long_name</th><th scope=col>goals</th></tr></thead>\n",
       "<tbody>\n",
       "\t<tr><td>FC Barcelona     </td><td>849              </td></tr>\n",
       "\t<tr><td>Real Madrid CF   </td><td>843              </td></tr>\n",
       "\t<tr><td>Celtic           </td><td>695              </td></tr>\n",
       "\t<tr><td>FC Bayern Munich </td><td>653              </td></tr>\n",
       "\t<tr><td>PSV              </td><td>652              </td></tr>\n",
       "\t<tr><td>Ajax             </td><td>647              </td></tr>\n",
       "\t<tr><td>FC Basel         </td><td>619              </td></tr>\n",
       "\t<tr><td>Manchester City  </td><td>606              </td></tr>\n",
       "\t<tr><td>Chelsea          </td><td>583              </td></tr>\n",
       "\t<tr><td>Manchester United</td><td>582              </td></tr>\n",
       "</tbody>\n",
       "</table>\n"
      ],
      "text/latex": [
       "\\begin{tabular}{r|ll}\n",
       " team\\_long\\_name & goals\\\\\n",
       "\\hline\n",
       "\t FC Barcelona      & 849              \\\\\n",
       "\t Real Madrid CF    & 843              \\\\\n",
       "\t Celtic            & 695              \\\\\n",
       "\t FC Bayern Munich  & 653              \\\\\n",
       "\t PSV               & 652              \\\\\n",
       "\t Ajax              & 647              \\\\\n",
       "\t FC Basel          & 619              \\\\\n",
       "\t Manchester City   & 606              \\\\\n",
       "\t Chelsea           & 583              \\\\\n",
       "\t Manchester United & 582              \\\\\n",
       "\\end{tabular}\n"
      ],
      "text/markdown": [
       "\n",
       "team_long_name | goals | \n",
       "|---|---|---|---|---|---|---|---|---|---|\n",
       "| FC Barcelona      | 849               | \n",
       "| Real Madrid CF    | 843               | \n",
       "| Celtic            | 695               | \n",
       "| FC Bayern Munich  | 653               | \n",
       "| PSV               | 652               | \n",
       "| Ajax              | 647               | \n",
       "| FC Basel          | 619               | \n",
       "| Manchester City   | 606               | \n",
       "| Chelsea           | 583               | \n",
       "| Manchester United | 582               | \n",
       "\n",
       "\n"
      ],
      "text/plain": [
       "   team_long_name    goals\n",
       "1  FC Barcelona      849  \n",
       "2  Real Madrid CF    843  \n",
       "3  Celtic            695  \n",
       "4  FC Bayern Munich  653  \n",
       "5  PSV               652  \n",
       "6  Ajax              647  \n",
       "7  FC Basel          619  \n",
       "8  Manchester City   606  \n",
       "9  Chelsea           583  \n",
       "10 Manchester United 582  "
      ]
     },
     "metadata": {},
     "output_type": "display_data"
    }
   ],
   "source": [
    "#Which are the top 10 teams by number of scored goals?\n",
    "df8<-sqldf(\"select team_long_name,goals from Teams order by goals desc limit 10\")\n",
    "df8"
   ]
  },
  {
   "cell_type": "code",
   "execution_count": null,
   "metadata": {
    "collapsed": true
   },
   "outputs": [],
   "source": []
  }
 ],
 "metadata": {
  "kernelspec": {
   "display_name": "R",
   "language": "R",
   "name": "ir"
  },
  "language_info": {
   "codemirror_mode": "r",
   "file_extension": ".r",
   "mimetype": "text/x-r-source",
   "name": "R",
   "pygments_lexer": "r",
   "version": "3.3.2"
  }
 },
 "nbformat": 4,
 "nbformat_minor": 2
}
