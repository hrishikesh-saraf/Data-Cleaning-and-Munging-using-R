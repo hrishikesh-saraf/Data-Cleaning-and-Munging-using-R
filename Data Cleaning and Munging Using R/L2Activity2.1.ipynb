{
 "cells": [
  {
   "cell_type": "code",
   "execution_count": 2,
   "metadata": {
    "collapsed": false,
    "scrolled": true
   },
   "outputs": [
    {
     "name": "stderr",
     "output_type": "stream",
     "text": [
      "\n",
      "Attaching package: 'dplyr'\n",
      "\n",
      "The following objects are masked from 'package:stats':\n",
      "\n",
      "    filter, lag\n",
      "\n",
      "The following objects are masked from 'package:base':\n",
      "\n",
      "    intersect, setdiff, setequal, union\n",
      "\n"
     ]
    }
   ],
   "source": [
    "#Loading required libraries\n",
    "library(dplyr)\n",
    "library(RSQLite)\n"
   ]
  },
  {
   "cell_type": "code",
   "execution_count": 3,
   "metadata": {
    "collapsed": false
   },
   "outputs": [],
   "source": [
    "#Connecting to the database file\n",
    "con <- dbConnect(drv=RSQLite::SQLite(), dbname=\"database.sqlite\")"
   ]
  },
  {
   "cell_type": "code",
   "execution_count": 4,
   "metadata": {
    "collapsed": true
   },
   "outputs": [],
   "source": [
    "#Listing all the tables\n",
    "tables <- dbListTables(con)\n"
   ]
  },
  {
   "cell_type": "code",
   "execution_count": 5,
   "metadata": {
    "collapsed": false
   },
   "outputs": [
    {
     "name": "stdout",
     "output_type": "stream",
     "text": [
      "[1] \"Country\"           \"League\"            \"Match\"            \n",
      "[4] \"Player\"            \"Player_Attributes\" \"Team\"             \n",
      "[7] \"Team_Attributes\"   \"sqlite_sequence\"  \n"
     ]
    }
   ],
   "source": [
    "#Printing all the tables\n",
    "print(tables)"
   ]
  },
  {
   "cell_type": "code",
   "execution_count": 6,
   "metadata": {
    "collapsed": true
   },
   "outputs": [],
   "source": [
    "#Selecting relevant tables from the list of tables and converting them to DF\n",
    "Player<-tables[tables==\"Player\"]\n",
    "PlayerDF<-dbGetQuery(conn=con, statement=paste(\"SELECT * FROM '\",Player, \"'\", sep=\"\"))\n",
    "PlayerAttributes<-tables[tables==\"Player_Attributes\"]\n",
    "PlayerAttributesDF<-dbGetQuery(conn=con, statement=paste(\"SELECT * FROM '\",PlayerAttributes, \"'\", sep=\"\"))\n",
    "Team<-tables[tables==\"Team\"]\n",
    "TeamDF<-dbGetQuery(conn=con, statement=paste(\"SELECT * FROM '\",Team, \"'\", sep=\"\"))\n",
    "TeamAttributes<-tables[tables==\"Team_Attributes\"]\n",
    "TeamAttributesDF<-dbGetQuery(conn=con, statement=paste(\"SELECT * FROM '\",TeamAttributes, \"'\", sep=\"\"))\n",
    "League<-tables[tables==\"League\"]\n",
    "LeagueDF<-dbGetQuery(conn=con, statement=paste(\"SELECT * FROM '\",League, \"'\", sep=\"\"))\n",
    "Country<-tables[tables==\"Country\"]\n",
    "CountryDF<-dbGetQuery(conn=con, statement=paste(\"SELECT * FROM '\",Country, \"'\", sep=\"\"))\n",
    "Match<-tables[tables==\"Match\"]\n",
    "MatchDF<-dbGetQuery(conn=con, statement=paste(\"SELECT * FROM '\",Match, \"'\", sep=\"\"))"
   ]
  },
  {
   "cell_type": "code",
   "execution_count": 7,
   "metadata": {
    "collapsed": true
   },
   "outputs": [],
   "source": [
    "#Removing unwanted columns\n",
    "PlayerAttributesDF<-subset(PlayerAttributesDF, select=c(\"player_api_id\", \"overall_rating\",\"gk_diving\",\"gk_handling\",\"gk_kicking\",\"gk_positioning\",\"gk_reflexes\"))\n",
    "PlayerDF<-subset(PlayerDF,select=c(\"player_api_id\",\"player_name\"))"
   ]
  },
  {
   "cell_type": "code",
   "execution_count": 8,
   "metadata": {
    "collapsed": false
   },
   "outputs": [],
   "source": [
    "#Performing inner join to merge Player and Player Attributes\n",
    "Players <- inner_join(PlayerAttributesDF, PlayerDF, by=\"player_api_id\")"
   ]
  },
  {
   "cell_type": "code",
   "execution_count": 9,
   "metadata": {
    "collapsed": false
   },
   "outputs": [],
   "source": [
    "#Taking a subset of required columns\n",
    "Match2DF<-MatchDF[c(1,56:77)]"
   ]
  },
  {
   "cell_type": "code",
   "execution_count": 10,
   "metadata": {
    "collapsed": false
   },
   "outputs": [],
   "source": [
    "#Taking relevant subsets for calculating no. of leagues played\n",
    "Match3DF<-MatchDF[c(3,56:77)]"
   ]
  },
  {
   "cell_type": "code",
   "execution_count": 11,
   "metadata": {
    "collapsed": false
   },
   "outputs": [
    {
     "data": {
      "text/html": [
       "<ol class=list-inline>\n",
       "\t<li>'league_id'</li>\n",
       "\t<li>'home_player_1'</li>\n",
       "\t<li>'home_player_2'</li>\n",
       "\t<li>'home_player_3'</li>\n",
       "\t<li>'home_player_4'</li>\n",
       "\t<li>'home_player_5'</li>\n",
       "\t<li>'home_player_6'</li>\n",
       "\t<li>'home_player_7'</li>\n",
       "\t<li>'home_player_8'</li>\n",
       "\t<li>'home_player_9'</li>\n",
       "\t<li>'home_player_10'</li>\n",
       "\t<li>'home_player_11'</li>\n",
       "\t<li>'away_player_1'</li>\n",
       "\t<li>'away_player_2'</li>\n",
       "\t<li>'away_player_3'</li>\n",
       "\t<li>'away_player_4'</li>\n",
       "\t<li>'away_player_5'</li>\n",
       "\t<li>'away_player_6'</li>\n",
       "\t<li>'away_player_7'</li>\n",
       "\t<li>'away_player_8'</li>\n",
       "\t<li>'away_player_9'</li>\n",
       "\t<li>'away_player_10'</li>\n",
       "\t<li>'away_player_11'</li>\n",
       "</ol>\n"
      ],
      "text/latex": [
       "\\begin{enumerate*}\n",
       "\\item 'league\\_id'\n",
       "\\item 'home\\_player\\_1'\n",
       "\\item 'home\\_player\\_2'\n",
       "\\item 'home\\_player\\_3'\n",
       "\\item 'home\\_player\\_4'\n",
       "\\item 'home\\_player\\_5'\n",
       "\\item 'home\\_player\\_6'\n",
       "\\item 'home\\_player\\_7'\n",
       "\\item 'home\\_player\\_8'\n",
       "\\item 'home\\_player\\_9'\n",
       "\\item 'home\\_player\\_10'\n",
       "\\item 'home\\_player\\_11'\n",
       "\\item 'away\\_player\\_1'\n",
       "\\item 'away\\_player\\_2'\n",
       "\\item 'away\\_player\\_3'\n",
       "\\item 'away\\_player\\_4'\n",
       "\\item 'away\\_player\\_5'\n",
       "\\item 'away\\_player\\_6'\n",
       "\\item 'away\\_player\\_7'\n",
       "\\item 'away\\_player\\_8'\n",
       "\\item 'away\\_player\\_9'\n",
       "\\item 'away\\_player\\_10'\n",
       "\\item 'away\\_player\\_11'\n",
       "\\end{enumerate*}\n"
      ],
      "text/markdown": [
       "1. 'league_id'\n",
       "2. 'home_player_1'\n",
       "3. 'home_player_2'\n",
       "4. 'home_player_3'\n",
       "5. 'home_player_4'\n",
       "6. 'home_player_5'\n",
       "7. 'home_player_6'\n",
       "8. 'home_player_7'\n",
       "9. 'home_player_8'\n",
       "10. 'home_player_9'\n",
       "11. 'home_player_10'\n",
       "12. 'home_player_11'\n",
       "13. 'away_player_1'\n",
       "14. 'away_player_2'\n",
       "15. 'away_player_3'\n",
       "16. 'away_player_4'\n",
       "17. 'away_player_5'\n",
       "18. 'away_player_6'\n",
       "19. 'away_player_7'\n",
       "20. 'away_player_8'\n",
       "21. 'away_player_9'\n",
       "22. 'away_player_10'\n",
       "23. 'away_player_11'\n",
       "\n",
       "\n"
      ],
      "text/plain": [
       " [1] \"league_id\"      \"home_player_1\"  \"home_player_2\"  \"home_player_3\" \n",
       " [5] \"home_player_4\"  \"home_player_5\"  \"home_player_6\"  \"home_player_7\" \n",
       " [9] \"home_player_8\"  \"home_player_9\"  \"home_player_10\" \"home_player_11\"\n",
       "[13] \"away_player_1\"  \"away_player_2\"  \"away_player_3\"  \"away_player_4\" \n",
       "[17] \"away_player_5\"  \"away_player_6\"  \"away_player_7\"  \"away_player_8\" \n",
       "[21] \"away_player_9\"  \"away_player_10\" \"away_player_11\""
      ]
     },
     "metadata": {},
     "output_type": "display_data"
    }
   ],
   "source": [
    "colnames(Match3DF)"
   ]
  },
  {
   "cell_type": "code",
   "execution_count": 12,
   "metadata": {
    "collapsed": true
   },
   "outputs": [],
   "source": [
    "#Creating DFs for 22 players for no. of leagues calculation\n",
    "df1x=Match3DF[c(1,2)]\n",
    "df2x=Match3DF[c(1,3)]\n",
    "df3x=Match3DF[c(1,4)]\n",
    "df4x=Match3DF[c(1,5)]\n",
    "df5x=Match3DF[c(1,6)]\n",
    "df6x=Match3DF[c(1,7)]\n",
    "df7x=Match3DF[c(1,8)]\n",
    "df8x=Match3DF[c(1,9)]\n",
    "df9x=Match3DF[c(1,10)]\n",
    "df10x=Match3DF[c(1,11)]\n",
    "df11x=Match3DF[c(1,12)]\n",
    "df12x=Match3DF[c(1,13)]\n",
    "df13x=Match3DF[c(1,14)]\n",
    "df14x=Match3DF[c(1,15)]\n",
    "df15x=Match3DF[c(1,16)]\n",
    "df16x=Match3DF[c(1,17)]\n",
    "df17x=Match3DF[c(1,18)]\n",
    "df18x=Match3DF[c(1,19)]\n",
    "df19x=Match3DF[c(1,20)]\n",
    "df20x=Match3DF[c(1,21)]\n",
    "df21x=Match3DF[c(1,22)]\n",
    "df22x=Match3DF[c(1,23)]"
   ]
  },
  {
   "cell_type": "code",
   "execution_count": 13,
   "metadata": {
    "collapsed": false
   },
   "outputs": [
    {
     "name": "stderr",
     "output_type": "stream",
     "text": [
      "------------------------------------------------------------------------------\n",
      "You have loaded plyr after dplyr - this is likely to cause problems.\n",
      "If you need functions from both plyr and dplyr, please load plyr first, then dplyr:\n",
      "library(plyr); library(dplyr)\n",
      "------------------------------------------------------------------------------\n",
      "\n",
      "Attaching package: 'plyr'\n",
      "\n",
      "The following objects are masked from 'package:dplyr':\n",
      "\n",
      "    arrange, count, desc, failwith, id, mutate, rename, summarise,\n",
      "    summarize\n",
      "\n"
     ]
    }
   ],
   "source": [
    "library(plyr)\n",
    "#Renaming the columns for an rbind operation\n",
    "df1x<-rename(df1x, c(\"home_player_1\"=\"player_api_id\"))\n",
    "df2x<-rename(df2x, c(\"home_player_2\"=\"player_api_id\"))\n",
    "df3x<-rename(df3x, c(\"home_player_3\"=\"player_api_id\"))\n",
    "df4x<-rename(df4x, c(\"home_player_4\"=\"player_api_id\"))\n",
    "df5x<-rename(df5x, c(\"home_player_5\"=\"player_api_id\"))\n",
    "df6x<-rename(df6x, c(\"home_player_6\"=\"player_api_id\"))\n",
    "df7x<-rename(df7x, c(\"home_player_7\"=\"player_api_id\"))\n",
    "df8x<-rename(df8x, c(\"home_player_8\"=\"player_api_id\"))\n",
    "df9x<-rename(df9x, c(\"home_player_9\"=\"player_api_id\"))\n",
    "df10x<-rename(df10x, c(\"home_player_10\"=\"player_api_id\"))\n",
    "df11x<-rename(df11x, c(\"home_player_11\"=\"player_api_id\"))\n",
    "df12x<-rename(df12x, c(\"away_player_1\"=\"player_api_id\"))\n",
    "df13x<-rename(df13x, c(\"away_player_2\"=\"player_api_id\"))\n",
    "df14x<-rename(df14x, c(\"away_player_3\"=\"player_api_id\"))\n",
    "df15x<-rename(df15x, c(\"away_player_4\"=\"player_api_id\"))\n",
    "df16x<-rename(df16x, c(\"away_player_5\"=\"player_api_id\"))\n",
    "df17x<-rename(df17x, c(\"away_player_6\"=\"player_api_id\"))\n",
    "df18x<-rename(df18x, c(\"away_player_7\"=\"player_api_id\"))\n",
    "df19x<-rename(df19x, c(\"away_player_8\"=\"player_api_id\"))\n",
    "df20x<-rename(df20x, c(\"away_player_9\"=\"player_api_id\"))\n",
    "df21x<-rename(df21x, c(\"away_player_10\"=\"player_api_id\"))\n",
    "df22x<-rename(df22x, c(\"away_player_11\"=\"player_api_id\"))"
   ]
  },
  {
   "cell_type": "code",
   "execution_count": 14,
   "metadata": {
    "collapsed": false
   },
   "outputs": [],
   "source": [
    "#Creating DFs for 22 player positions\n",
    "df1=Match2DF[c(1,2)]\n",
    "df2=Match2DF[c(1,3)]\n",
    "df3=Match2DF[c(1,4)]\n",
    "df4=Match2DF[c(1,5)]\n",
    "df5=Match2DF[c(1,6)]\n",
    "df6=Match2DF[c(1,7)]\n",
    "df7=Match2DF[c(1,8)]\n",
    "df8=Match2DF[c(1,9)]\n",
    "df9=Match2DF[c(1,10)]\n",
    "df10=Match2DF[c(1,11)]\n",
    "df11=Match2DF[c(1,12)]\n",
    "df12=Match2DF[c(1,13)]\n",
    "df13=Match2DF[c(1,14)]\n",
    "df14=Match2DF[c(1,15)]\n",
    "df15=Match2DF[c(1,16)]\n",
    "df16=Match2DF[c(1,17)]\n",
    "df17=Match2DF[c(1,18)]\n",
    "df18=Match2DF[c(1,19)]\n",
    "df19=Match2DF[c(1,20)]\n",
    "df20=Match2DF[c(1,21)]\n",
    "df21=Match2DF[c(1,22)]\n",
    "df22=Match2DF[c(1,23)]"
   ]
  },
  {
   "cell_type": "code",
   "execution_count": 15,
   "metadata": {
    "collapsed": false
   },
   "outputs": [],
   "source": [
    "library(plyr)\n",
    "#Renaming the columns for an rbind operation\n",
    "df1<-rename(df1, c(\"home_player_1\"=\"player_api_id\"))\n",
    "df2<-rename(df2, c(\"home_player_2\"=\"player_api_id\"))\n",
    "df3<-rename(df3, c(\"home_player_3\"=\"player_api_id\"))\n",
    "df4<-rename(df4, c(\"home_player_4\"=\"player_api_id\"))\n",
    "df5<-rename(df5, c(\"home_player_5\"=\"player_api_id\"))\n",
    "df6<-rename(df6, c(\"home_player_6\"=\"player_api_id\"))\n",
    "df7<-rename(df7, c(\"home_player_7\"=\"player_api_id\"))\n",
    "df8<-rename(df8, c(\"home_player_8\"=\"player_api_id\"))\n",
    "df9<-rename(df9, c(\"home_player_9\"=\"player_api_id\"))\n",
    "df10<-rename(df10, c(\"home_player_10\"=\"player_api_id\"))\n",
    "df11<-rename(df11, c(\"home_player_11\"=\"player_api_id\"))\n",
    "df12<-rename(df12, c(\"away_player_1\"=\"player_api_id\"))\n",
    "df13<-rename(df13, c(\"away_player_2\"=\"player_api_id\"))\n",
    "df14<-rename(df14, c(\"away_player_3\"=\"player_api_id\"))\n",
    "df15<-rename(df15, c(\"away_player_4\"=\"player_api_id\"))\n",
    "df16<-rename(df16, c(\"away_player_5\"=\"player_api_id\"))\n",
    "df17<-rename(df17, c(\"away_player_6\"=\"player_api_id\"))\n",
    "df18<-rename(df18, c(\"away_player_7\"=\"player_api_id\"))\n",
    "df19<-rename(df19, c(\"away_player_8\"=\"player_api_id\"))\n",
    "df20<-rename(df20, c(\"away_player_9\"=\"player_api_id\"))\n",
    "df21<-rename(df21, c(\"away_player_10\"=\"player_api_id\"))\n",
    "df22<-rename(df22, c(\"away_player_11\"=\"player_api_id\"))"
   ]
  },
  {
   "cell_type": "code",
   "execution_count": 16,
   "metadata": {
    "collapsed": false
   },
   "outputs": [],
   "source": [
    "#Performing rbind\n",
    "newdf<-rbind(df1,df2,df3,df4,df5,df6,df7,df8,df9,df10,df11,df12,df13,df14,df15,df16,df17,df18,df19,df20,df21,df22)"
   ]
  },
  {
   "cell_type": "code",
   "execution_count": 17,
   "metadata": {
    "collapsed": true
   },
   "outputs": [],
   "source": [
    "#Performing rbind (leagues calculation)\n",
    "newdfx<-rbind(df1x,df2x,df3x,df4x,df5x,df6x,df7x,df8x,df9x,df10x,df11x,df12x,df13x,df14x,df15x,df16x,df17x,df18x,df19x,df20x,df21x,df22x)"
   ]
  },
  {
   "cell_type": "code",
   "execution_count": 18,
   "metadata": {
    "collapsed": false
   },
   "outputs": [],
   "source": [
    "#Removing NA values\n",
    "newdf<-na.omit(newdf)"
   ]
  },
  {
   "cell_type": "code",
   "execution_count": 19,
   "metadata": {
    "collapsed": true
   },
   "outputs": [],
   "source": [
    "#Removing NA values\n",
    "newdfx<-na.omit(newdfx)"
   ]
  },
  {
   "cell_type": "code",
   "execution_count": 20,
   "metadata": {
    "collapsed": false
   },
   "outputs": [],
   "source": [
    "#Getting distinct pairs of player-league entities\n",
    "newdfx2 <- distinct(select(newdfx,league_id,player_api_id))"
   ]
  },
  {
   "cell_type": "code",
   "execution_count": 21,
   "metadata": {
    "collapsed": false
   },
   "outputs": [],
   "source": [
    "#Detaching library plyr to avoid conflict and using group_by operation\n",
    "detach(\"package:plyr\", unload=TRUE)\n",
    "#Calculating number of league played by summarise function\n",
    "newdfx2<-group_by(newdfx2,player_api_id)\n",
    "newdfx3<-summarise(newdfx2,leagues_played=n())"
   ]
  },
  {
   "cell_type": "code",
   "execution_count": 22,
   "metadata": {
    "collapsed": false
   },
   "outputs": [],
   "source": [
    "#Calculating number of appearances by summarise function\n",
    "newdf2<-group_by(newdf,player_api_id)\n",
    "newdf3<-summarise(newdf2,matches_played=n())\n"
   ]
  },
  {
   "cell_type": "code",
   "execution_count": 27,
   "metadata": {
    "collapsed": true
   },
   "outputs": [],
   "source": [
    "#Removing duplicate entries\n",
    "Players <- subset(Players, !duplicated(Players[,1])) \n",
    "#Performing inner joins to add matches_played and leagues_played\n",
    "Players <- inner_join(Players,newdf3, by=\"player_api_id\")\n",
    "Players <- inner_join(Players,newdfx3, by=\"player_api_id\")"
   ]
  },
  {
   "cell_type": "code",
   "execution_count": 28,
   "metadata": {
    "collapsed": true
   },
   "outputs": [],
   "source": [
    "#Adding the gk attributes\n",
    "gk<-rowSums(Players[3:7])"
   ]
  },
  {
   "cell_type": "code",
   "execution_count": 29,
   "metadata": {
    "collapsed": true
   },
   "outputs": [],
   "source": [
    "#Using cbind to attach gk to players\n",
    "Players<-cbind(Players,gk)"
   ]
  },
  {
   "cell_type": "code",
   "execution_count": 30,
   "metadata": {
    "collapsed": false
   },
   "outputs": [],
   "source": [
    "#Subset of required columns\n",
    "Players<-Players[c(1,2,8,9,10,11)]"
   ]
  },
  {
   "cell_type": "code",
   "execution_count": 31,
   "metadata": {
    "collapsed": false
   },
   "outputs": [],
   "source": [
    "#Writing players to csv\n",
    "write.csv(Players, file = \"player.csv\")"
   ]
  },
  {
   "cell_type": "code",
   "execution_count": 32,
   "metadata": {
    "collapsed": false
   },
   "outputs": [],
   "source": [
    "#Extracting home and away goals in two dataframes\n",
    "MatchDF3<-MatchDF[c(8,10)]\n",
    "MatchDF4<-MatchDF[c(9,11)]\n",
    "colnames(MatchDF3)[1] <- \"team_api_id\"\n",
    "colnames(MatchDF3)[2] <- \"goals\"\n",
    "colnames(MatchDF4)[1] <- \"team_api_id\"\n",
    "colnames(MatchDF4)[2] <- \"goals\""
   ]
  },
  {
   "cell_type": "code",
   "execution_count": 33,
   "metadata": {
    "collapsed": false
   },
   "outputs": [],
   "source": [
    "#Joining the two by using rbind\n",
    "MatchDF5<-rbind(MatchDF3,MatchDF4)"
   ]
  },
  {
   "cell_type": "code",
   "execution_count": 34,
   "metadata": {
    "collapsed": false
   },
   "outputs": [],
   "source": [
    "#Evaluating total goals scored by a particular team by using aggregate\n",
    "MatchDF6<-aggregate(MatchDF5[,-1],MatchDF5[\"team_api_id\"],sum)"
   ]
  },
  {
   "cell_type": "code",
   "execution_count": 35,
   "metadata": {
    "collapsed": false
   },
   "outputs": [],
   "source": [
    "#Renaming columns appropirately\n",
    "colnames(MatchDF6)[2]<-\"goals\""
   ]
  },
  {
   "cell_type": "code",
   "execution_count": 36,
   "metadata": {
    "collapsed": false
   },
   "outputs": [],
   "source": [
    "#Taking subset of necessary columns\n",
    "TeamAttributesDF<-TeamAttributesDF[c(3,5,7,9,12,14,16,19,21,23)]"
   ]
  },
  {
   "cell_type": "code",
   "execution_count": 37,
   "metadata": {
    "collapsed": false
   },
   "outputs": [],
   "source": [
    "#Replacing NAs with zeros\n",
    "TeamAttributesDF[is.na(TeamAttributesDF)] <- 0"
   ]
  },
  {
   "cell_type": "code",
   "execution_count": 38,
   "metadata": {
    "collapsed": false
   },
   "outputs": [],
   "source": [
    "#Extracting required columns into dataframes\n",
    "buildup<-rowSums(TeamAttributesDF[2:4])\n",
    "chance_creation<-rowSums(TeamAttributesDF[5:7])\n",
    "defence<-rowSums(TeamAttributesDF[8:10])\n"
   ]
  },
  {
   "cell_type": "code",
   "execution_count": 39,
   "metadata": {
    "collapsed": true
   },
   "outputs": [],
   "source": [
    "#Joining by using cbind\n",
    "TeamAttributesDF<-cbind(TeamAttributesDF,buildup)\n",
    "TeamAttributesDF<-cbind(TeamAttributesDF,chance_creation)\n",
    "TeamAttributesDF<-cbind(TeamAttributesDF,defence)"
   ]
  },
  {
   "cell_type": "code",
   "execution_count": 40,
   "metadata": {
    "collapsed": true
   },
   "outputs": [],
   "source": [
    "#Extracting only relevant columns\n",
    "TeamAttributesDF<-TeamAttributesDF[c(1,11,12,13)]"
   ]
  },
  {
   "cell_type": "code",
   "execution_count": 41,
   "metadata": {
    "collapsed": true
   },
   "outputs": [],
   "source": [
    "#Extracting columns into dataframes for calculating max in one column for a particular value\n",
    "df1<-TeamAttributesDF[c(1,2)]\n",
    "df2<-TeamAttributesDF[c(1,3)]\n",
    "df3<-TeamAttributesDF[c(1,4)]"
   ]
  },
  {
   "cell_type": "code",
   "execution_count": 42,
   "metadata": {
    "collapsed": false
   },
   "outputs": [],
   "source": [
    "#Finding max values for a particular team_api_id with multiple entries\n",
    "df1<-tapply(df1$buildup, df1$team_api_id, max)\n",
    "df1<-as.data.frame(df1)\n",
    "df2<-tapply(df2$chance_creation, df2$team_api_id, max)\n",
    "df2<-as.data.frame(df2)\n",
    "df3<-tapply(df3$defence, df3$team_api_id, max)\n",
    "df3<-as.data.frame(df3)"
   ]
  },
  {
   "cell_type": "code",
   "execution_count": 43,
   "metadata": {
    "collapsed": false
   },
   "outputs": [],
   "source": [
    "#Renaming columns\n",
    "colnames(df1)[1] <- \"buildup\"\n",
    "colnames(df2)[1] <- \"chance_creation\"\n",
    "colnames(df3)[1] <- \"defence\"\n"
   ]
  },
  {
   "cell_type": "code",
   "execution_count": 44,
   "metadata": {
    "collapsed": false
   },
   "outputs": [],
   "source": [
    "#Joining by using cbind\n",
    "df4<-cbind(df1,df2,df3)"
   ]
  },
  {
   "cell_type": "code",
   "execution_count": 45,
   "metadata": {
    "collapsed": false
   },
   "outputs": [],
   "source": [
    "#Extracting team_api_id\n",
    "df5<-TeamAttributesDF[c(1)]"
   ]
  },
  {
   "cell_type": "code",
   "execution_count": 46,
   "metadata": {
    "collapsed": true
   },
   "outputs": [],
   "source": [
    "#Removing duplicates\n",
    "df5 <- subset(df5, !duplicated(df5[,1]))"
   ]
  },
  {
   "cell_type": "code",
   "execution_count": 47,
   "metadata": {
    "collapsed": false
   },
   "outputs": [],
   "source": [
    "#Arranging by ascending order\n",
    "df5<-arrange(df5,team_api_id)"
   ]
  },
  {
   "cell_type": "code",
   "execution_count": 48,
   "metadata": {
    "collapsed": false
   },
   "outputs": [],
   "source": [
    "#Joining by using cbind\n",
    "df5<-cbind(df5,df4)"
   ]
  },
  {
   "cell_type": "code",
   "execution_count": 49,
   "metadata": {
    "collapsed": true
   },
   "outputs": [],
   "source": [
    "#Extracting team names and api ids\n",
    "TeamDF<-TeamDF[c(2,4)]"
   ]
  },
  {
   "cell_type": "code",
   "execution_count": 50,
   "metadata": {
    "collapsed": false
   },
   "outputs": [],
   "source": [
    "#Performing an inner join to match names and api ids\n",
    "Teams <- inner_join(TeamDF,df5, by=\"team_api_id\")"
   ]
  },
  {
   "cell_type": "code",
   "execution_count": 51,
   "metadata": {
    "collapsed": false
   },
   "outputs": [],
   "source": [
    "#Performing an inner join to add the column \"goals\"\n",
    "Teams <- inner_join(Teams,MatchDF6, by=\"team_api_id\")"
   ]
  },
  {
   "cell_type": "code",
   "execution_count": 52,
   "metadata": {
    "collapsed": true
   },
   "outputs": [],
   "source": [
    "#Writing Teams to csv\n",
    "write.csv(Teams, file = \"team.csv\")"
   ]
  }
 ],
 "metadata": {
  "kernelspec": {
   "display_name": "R",
   "language": "R",
   "name": "ir"
  },
  "language_info": {
   "codemirror_mode": "r",
   "file_extension": ".r",
   "mimetype": "text/x-r-source",
   "name": "R",
   "pygments_lexer": "r",
   "version": "3.3.2"
  }
 },
 "nbformat": 4,
 "nbformat_minor": 2
}
